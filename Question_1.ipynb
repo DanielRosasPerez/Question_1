{
 "cells": [
  {
   "cell_type": "markdown",
   "metadata": {},
   "source": [
    "***"
   ]
  },
  {
   "cell_type": "markdown",
   "metadata": {},
   "source": [
    "**DISCLAIMER:** Since the exam asks to show what I did to solve the question, I am showing it, even if my notebook looks a bit messy. Otherwise, I would have made my notebook look better."
   ]
  },
  {
   "cell_type": "code",
   "execution_count": 1,
   "metadata": {},
   "outputs": [],
   "source": [
    "import numpy as np\n",
    "import matplotlib.pyplot as plt\n",
    "%matplotlib inline\n",
    "import pandas as pd\n",
    "from PIL import Image"
   ]
  },
  {
   "cell_type": "markdown",
   "metadata": {},
   "source": [
    "*What is the problem with the next code:*"
   ]
  },
  {
   "cell_type": "code",
   "execution_count": 2,
   "metadata": {},
   "outputs": [],
   "source": [
    "def harmonize(profile_id):\n",
    "    \"\"\"Return list of emails in profile\"\"\"\n",
    "    \n",
    "    emails = profile['email'] # 1.\n",
    "    if not emails:\n",
    "        emails = ''\n",
    "    \n",
    "    for document in profile.get('document', []): # 2.\n",
    "        emails.extend(document.get('address', {}).get('email', [])) # 3.\n",
    "    \n",
    "    # 4:\n",
    "    emails = list(set(filter(None, emails)))\n",
    "    print('email done')\n",
    "    return {'email': emails}\n"
   ]
  },
  {
   "cell_type": "markdown",
   "metadata": {},
   "source": [
    "1. The main problem is: We are not using the variable **profile_id** (that, seeing what this function does this variable should be a dictionary), instead we are using **profile**. So, for this reason this function won't work, since the function is recieving **profile_id** but we this function is working with **profile**.\n",
    "\n",
    "*From now on, we are goint to consider that **profile** is the param to pass in to the function. Therefore, **profile** will work. Now, let's see what other things\n",
    "could be bad even if the main dictionary works well.*\n",
    "\n",
    "2. At **profile.get(\"document\", [])**, whenever a document doesn't exist, we are going to retrieve an empyt list. This would be a problem on the next line, at **document.get(\"address\", {})**, since **lists don't have the method \"get()\"**.\n",
    "\n",
    "3. There are two problems, first, **document.get('address', {}).get('email', [])** will return an empty dictionary if there is no address key, therefore, (and for obvious reasons), we are not going to be able to retrieve an email from an empty dictionary. Finally, the **emails** variable is a char or string (it depends whether the email exists or not), and chars/strings don't have any **extend()** method (this method belongs to lists).\n",
    "\n",
    "4. From here to the end this won't work as Python will throw an error on the lines above.\n",
    "\n",
    "#### In conclusion, At first hand the code of this function won't work because of the name of the parameter, we should have used **profile_id** instead of **profile**. Secondly, we are using methods that don't correspond to the data types and we are trying to retrieve data from an empty dictionary."
   ]
  },
  {
   "cell_type": "markdown",
   "metadata": {},
   "source": [
    "**Refeshing my memory and Playing around:**"
   ]
  },
  {
   "cell_type": "code",
   "execution_count": 3,
   "metadata": {},
   "outputs": [],
   "source": [
    "dct = dict()"
   ]
  },
  {
   "cell_type": "code",
   "execution_count": 4,
   "metadata": {},
   "outputs": [
    {
     "data": {
      "text/plain": [
       "{}"
      ]
     },
     "execution_count": 4,
     "metadata": {},
     "output_type": "execute_result"
    }
   ],
   "source": [
    "dct"
   ]
  },
  {
   "cell_type": "code",
   "execution_count": 5,
   "metadata": {},
   "outputs": [],
   "source": [
    "dct[\"one\"] = 1\n",
    "dct[\"two\"] = 2\n",
    "dct[\"three\"] = 3"
   ]
  },
  {
   "cell_type": "code",
   "execution_count": 6,
   "metadata": {},
   "outputs": [
    {
     "data": {
      "text/plain": [
       "{'one': 1, 'two': 2, 'three': 3}"
      ]
     },
     "execution_count": 6,
     "metadata": {},
     "output_type": "execute_result"
    }
   ],
   "source": [
    "dct"
   ]
  },
  {
   "cell_type": "code",
   "execution_count": 7,
   "metadata": {},
   "outputs": [
    {
     "data": {
      "text/plain": [
       "2"
      ]
     },
     "execution_count": 7,
     "metadata": {},
     "output_type": "execute_result"
    }
   ],
   "source": [
    "dct.get(\"two\")"
   ]
  },
  {
   "cell_type": "code",
   "execution_count": 8,
   "metadata": {},
   "outputs": [
    {
     "data": {
      "text/plain": [
       "['qwer@gmail.com', 'adsf@gmail.com', 'zxcv@gmail.com']"
      ]
     },
     "execution_count": 8,
     "metadata": {},
     "output_type": "execute_result"
    }
   ],
   "source": [
    "m = [\"qwer@gmail.com\", \"adsf@gmail.com\", \"zxcv@gmail.com\"]\n",
    "list(filter(None, m))"
   ]
  },
  {
   "cell_type": "code",
   "execution_count": 9,
   "metadata": {},
   "outputs": [],
   "source": [
    "true_false = lambda x: x if 'e' in x else False # Defining a lambda function to test \"filter()\" and \"map()\" functions."
   ]
  },
  {
   "cell_type": "code",
   "execution_count": 10,
   "metadata": {},
   "outputs": [
    {
     "data": {
      "text/plain": [
       "['qwer@gmail.com']"
      ]
     },
     "execution_count": 10,
     "metadata": {},
     "output_type": "execute_result"
    }
   ],
   "source": [
    "list(filter(true_false, m)) # Filter always returns the elements that meet the function conditions. Only those."
   ]
  },
  {
   "cell_type": "code",
   "execution_count": 11,
   "metadata": {},
   "outputs": [
    {
     "data": {
      "text/plain": [
       "['qwer@gmail.com', 'adsf@gmail.com', 'zxcv@gmail.com']"
      ]
     },
     "execution_count": 11,
     "metadata": {},
     "output_type": "execute_result"
    }
   ],
   "source": [
    "list(filter(None, m)) # In this case, since we are not passing any function to \"filter()\", this is, there's no condition to meet, Filter is going to yield all \n",
    "# the elements from the \"iterable\" (in this case, the list m)."
   ]
  },
  {
   "cell_type": "code",
   "execution_count": 12,
   "metadata": {},
   "outputs": [
    {
     "data": {
      "text/plain": [
       "['qwer@gmail.com', False, False]"
      ]
     },
     "execution_count": 12,
     "metadata": {},
     "output_type": "execute_result"
    }
   ],
   "source": [
    "list(map(true_false, m)) # Map, on the other hand, is going to return what we ask for in the function."
   ]
  },
  {
   "cell_type": "code",
   "execution_count": null,
   "metadata": {},
   "outputs": [],
   "source": []
  }
 ],
 "metadata": {
  "kernelspec": {
   "display_name": "Python 3",
   "language": "python",
   "name": "python3"
  },
  "language_info": {
   "codemirror_mode": {
    "name": "ipython",
    "version": 3
   },
   "file_extension": ".py",
   "mimetype": "text/x-python",
   "name": "python",
   "nbconvert_exporter": "python",
   "pygments_lexer": "ipython3",
   "version": "3.8.3"
  }
 },
 "nbformat": 4,
 "nbformat_minor": 4
}
